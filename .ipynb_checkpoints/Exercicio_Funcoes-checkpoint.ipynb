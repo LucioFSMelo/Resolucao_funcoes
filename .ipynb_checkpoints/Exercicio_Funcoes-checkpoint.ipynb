{
 "cells": [
  {
   "cell_type": "markdown",
   "metadata": {},
   "source": [
    "### Prática de Funções"
   ]
  },
  {
   "attachments": {
    "image.png": {
     "image/png": "[encoded data removed]"
    }
   },
   "cell_type": "markdown",
   "metadata": {},
   "source": [
    "### Questão 1) Faça um programa para imprimir:\n",
    "![image.png](attachment:image.png)"
   ]
  },
  {
   "cell_type": "code",
   "execution_count": 61,
   "metadata": {},
   "outputs": [],
   "source": [
    "def imprimir(n):\n",
    "    cont = list(range(1, n))\n",
    "    for i in cont:\n",
    "        a = str(i)\n",
    "        print(a*i)\n",
    "        \n",
    "    "
   ]
  },
  {
   "cell_type": "code",
   "execution_count": 118,
   "metadata": {},
   "outputs": [
    {
     "name": "stdout",
     "output_type": "stream",
     "text": [
      "1\n",
      "22\n",
      "333\n",
      "4444\n",
      "55555\n",
      "666666\n",
      "7777777\n",
      "88888888\n",
      "999999999\n",
      "10101010101010101010\n",
      "1111111111111111111111\n",
      "121212121212121212121212\n",
      "13131313131313131313131313\n",
      "1414141414141414141414141414\n"
     ]
    }
   ],
   "source": [
    "imprimir(15)"
   ]
  },
  {
   "attachments": {
    "image.png": {
     "image/png": "[encoded data removed]"
    }
   },
   "cell_type": "markdown",
   "metadata": {},
   "source": [
    "### Questão 2) Faça um progrma para imprimir:\n",
    "![image.png](attachment:image.png)"
   ]
  },
  {
   "cell_type": "code",
   "execution_count": 183,
   "metadata": {},
   "outputs": [],
   "source": [
    "def imprimir2(p):\n",
    "    a = 1\n",
    "    while a < p:\n",
    "        aux = list(range(1, a))\n",
    "        print(aux)\n",
    "        a +=1\n",
    "    "
   ]
  },
  {
   "cell_type": "code",
   "execution_count": 184,
   "metadata": {},
   "outputs": [
    {
     "name": "stdout",
     "output_type": "stream",
     "text": [
      "[]\n",
      "[1]\n",
      "[1, 2]\n",
      "[1, 2, 3]\n",
      "[1, 2, 3, 4]\n",
      "[1, 2, 3, 4, 5]\n",
      "[1, 2, 3, 4, 5, 6]\n",
      "[1, 2, 3, 4, 5, 6, 7]\n",
      "[1, 2, 3, 4, 5, 6, 7, 8]\n"
     ]
    }
   ],
   "source": [
    "imprimir2(10)"
   ]
  },
  {
   "cell_type": "markdown",
   "metadata": {},
   "source": [
    "### Questão 3) Faça um programa, com uma função que necessite de três argumentos, e que forneça a soma desses três argumentos."
   ]
  },
  {
   "cell_type": "code",
   "execution_count": 185,
   "metadata": {},
   "outputs": [],
   "source": [
    "def soma(a, b ,c):\n",
    "    result = a+b+c\n",
    "    return result"
   ]
  },
  {
   "cell_type": "code",
   "execution_count": 186,
   "metadata": {},
   "outputs": [
    {
     "name": "stdout",
     "output_type": "stream",
     "text": [
      "15\n"
     ]
    }
   ],
   "source": [
    "print(soma(3, 5, 7))"
   ]
  },
  {
   "cell_type": "markdown",
   "metadata": {},
   "source": [
    "### Questão 4) Faça um programa, com uma função que necessite de um argumento. A função retorna o valor de caractere ‘P’, se seu argumento for positivo, e ‘N’, se seu argumento for zero ou negativo."
   ]
  },
  {
   "cell_type": "code",
   "execution_count": 187,
   "metadata": {},
   "outputs": [],
   "source": [
    "def condicao(valor):\n",
    "    if valor > 0:\n",
    "        print('P')\n",
    "    else:\n",
    "        print('N')"
   ]
  },
  {
   "cell_type": "code",
   "execution_count": 190,
   "metadata": {},
   "outputs": [
    {
     "name": "stdout",
     "output_type": "stream",
     "text": [
      "N\n"
     ]
    }
   ],
   "source": [
    "condicao(0)"
   ]
  },
  {
   "cell_type": "markdown",
   "metadata": {},
   "source": [
    "### Questão 5) Faça um programa com uma função chamada somaImposto. A função possui dois parâmetros formais: taxaImposto, que é a quantia de imposto sobre vendas expressa em porcentagem e custo, que é o custo de um item antes do imposto. A função “altera” o valor de custo para incluir o imposto sobre vendas."
   ]
  },
  {
   "cell_type": "code",
   "execution_count": 216,
   "metadata": {},
   "outputs": [],
   "source": [
    "def somaImposto():\n",
    "    taxaImposto = 0.12\n",
    "    custo = float(input('Informe o valor do custo do produto: R$ '))\n",
    "    venda = custo + (custo*taxaImposto)\n",
    "    return [taxaImposto, custo, venda]"
   ]
  },
  {
   "cell_type": "code",
   "execution_count": 219,
   "metadata": {},
   "outputs": [],
   "source": [
    "def nota_fiscal():\n",
    "    produto = input('Informe o produto: ')\n",
    "    venda = somaImposto()\n",
    "    custo = venda[0]/(1 + venda[1])\n",
    "    print('*'*60)\n",
    "    print('--------------------Nota Fiscal--------------------\\n')\n",
    "    print(f'Produto: {produto}.')\n",
    "    print(f'Imposto incididdo sobre o produto __________{venda[0]*100}%')\n",
    "    print(f'Custo do produto __________________________R${venda[1]}.')\n",
    "    print(f'Preço de venda ____________________________R${venda[2]}\\n')\n",
    "    print('*'*60)\n",
    "    \n",
    "    \n",
    "    "
   ]
  },
  {
   "cell_type": "code",
   "execution_count": 220,
   "metadata": {},
   "outputs": [
    {
     "name": "stdout",
     "output_type": "stream",
     "text": [
      "Informe o produto: Óculos\n",
      "Informe o valor do custo do produto: R$ 350\n",
      "************************************************************\n",
      "--------------------Nota Fiscal--------------------\n",
      "\n",
      "Produto: Óculos.\n",
      "Imposto incididdo sobre o produto __________12.0%\n",
      "Custo do produto __________________________R$350.0.\n",
      "Preço de venda ____________________________R$392.0\n",
      "\n",
      "************************************************************\n"
     ]
    }
   ],
   "source": [
    "nota_fiscal()"
   ]
  },
  {
   "cell_type": "markdown",
   "metadata": {},
   "source": [
    "### Questão 6) Faça um programa que converta da notação de 24 horas para a notação de 12 horas. Por exemplo, o programa deve converter 14:25 em 2:25 P.M. A entrada é dada em dois inteiros. Deve haver pelo menos duas funções: uma para fazer a conversão e uma  para a saída. Registre a informação A.M./P.M. como um valor ‘A’ para A.M. e ‘P’ para P.M. Assim, a função para efetuar as conversões terá um parâmetro formal para registrar se é A.M. ou P.M. Inclua um loop que permita que o usuário repita esse cálculo para novos valores de entrada todas as vezes que desejar."
   ]
  },
  {
   "cell_type": "code",
   "execution_count": 22,
   "metadata": {},
   "outputs": [],
   "source": [
    "def converter():\n",
    "    formato = int(input(\"\"\"Escolha um formato de tempo para conversão:\n",
    "    [1] Para formato de 24h\n",
    "    [2] Para formato de 12h\n",
    "    \"\"\"))\n",
    "    if formato == 1:\n",
    "        horas = int(input(\"Informe a penas a hora sem os minutos: \"))\n",
    "        minutos = int(input(\"informe os minutos: \"))\n",
    "        orientacao = int(input(\"\"\"Informe a orientação:\n",
    "        [1] AM\n",
    "        [2] PM\n",
    "        \"\"\"))\n",
    "        if orientacao == 1:\n",
    "            conversao = horas\n",
    "            orientacao = 0\n",
    "        elif orientacao == 2 and horas == 12:\n",
    "            conversao = horas\n",
    "            orientacao = 0\n",
    "        elif orientacao == 2 and horas < 12:\n",
    "            conversao = horas + 12\n",
    "            orientacao = 0\n",
    "    if formato == 2:\n",
    "        horas = int(input(\"Informe a penas a hora sem os minutos: \"))\n",
    "        minutos = int(input(\"informe os minutos: \"))\n",
    "        orientacao = int(input(\"\"\"Informe a orientação:\n",
    "        [1] AM\n",
    "        [2] PM\n",
    "        \"\"\"))\n",
    "        if orientacao == 1:\n",
    "            if horas < 12:\n",
    "                conversao = horas\n",
    "            else:\n",
    "                conversao = horas - 12\n",
    "        else:\n",
    "            if horas <= 12:\n",
    "                conversao = horas\n",
    "            else:\n",
    "                conversao = horas - 12\n",
    "    return [conversao, minutos, orientacao, horas]\n",
    "            "
   ]
  },
  {
   "cell_type": "code",
   "execution_count": 17,
   "metadata": {},
   "outputs": [
    {
     "name": "stdout",
     "output_type": "stream",
     "text": [
      "Escolha um formato de tempo para conversão:\n",
      "    [1] Para formato de 24h\n",
      "    [2] Para formato de 12h\n",
      "    2\n",
      "Informe a penas a hora sem os minutos: 5\n",
      "informe os minutos: 16\n",
      "Informe a orientação:\n",
      "        [1] AM\n",
      "        [2] PM\n",
      "        1\n"
     ]
    },
    {
     "data": {
      "text/plain": [
       "[5, '16', 1]"
      ]
     },
     "execution_count": 17,
     "metadata": {},
     "output_type": "execute_result"
    }
   ],
   "source": [
    "converter()"
   ]
  },
  {
   "cell_type": "code",
   "execution_count": 30,
   "metadata": {},
   "outputs": [],
   "source": [
    "def saida_converte():\n",
    "    escolha = int(input(\"\"\"MENU\n",
    "    [1] CONVERTER HORAS\n",
    "    [2] SAIR\n",
    "    \"\"\"))\n",
    "    while escolha == 1:\n",
    "        resultado = converter()\n",
    "        if resultado[2] == 0:\n",
    "            print('*'*60)\n",
    "            print('--------------------Conversor de Horas--------------------\\n')\n",
    "            print(f'A hora {resultado[3]}:{resultado[1]}, foi convertida para o formato de 24h: {resultado[0]}H:{resultado[1]}m\\n')\n",
    "            print('*'*60)\n",
    "        if resultado[2] == 1:\n",
    "            print('*'*60)\n",
    "            print('--------------------Conversor de Horas--------------------\\n')\n",
    "            print(f'A hora {resultado[3]}:{resultado[1]}, foi convertida para o formato de 12h: {resultado[0]}H:{resultado[1]}m - A\\n')\n",
    "            print('*'*60)\n",
    "        if resultado[2] == 2:\n",
    "            print('*'*60)\n",
    "            print('--------------------Conversor de Horas--------------------\\n')\n",
    "            print(f'A hora {resultado[3]}:{resultado[1]}, foi convertida para o formato de 12h: {resultado[0]}H:{resultado[1]}m - P\\n')\n",
    "            print('*'*60)\n",
    "        escolha = int(input(\"\"\"MENU\n",
    "    [1] CONVERTER HORAS\n",
    "    [2] SAIR\n",
    "    \"\"\"))\n",
    "    print('Você saiu do sistema!')"
   ]
  },
  {
   "cell_type": "code",
   "execution_count": 32,
   "metadata": {},
   "outputs": [
    {
     "name": "stdout",
     "output_type": "stream",
     "text": [
      "MENU\n",
      "    [1] CONVERTER HORAS\n",
      "    [2] SAIR\n",
      "    1\n",
      "Escolha um formato de tempo para conversão:\n",
      "    [1] Para formato de 24h\n",
      "    [2] Para formato de 12h\n",
      "    1\n",
      "Informe a penas a hora sem os minutos: 4\n",
      "informe os minutos: 16\n",
      "Informe a orientação:\n",
      "        [1] AM\n",
      "        [2] PM\n",
      "        2\n",
      "************************************************************\n",
      "--------------------Conversor de Horas--------------------\n",
      "\n",
      "A hora 4:16, foi convertida para o formato de 24h: 16H:16m\n",
      "\n",
      "************************************************************\n",
      "MENU\n",
      "    [1] CONVERTER HORAS\n",
      "    [2] SAIR\n",
      "    2\n",
      "Você saiu do sistema!\n"
     ]
    }
   ],
   "source": [
    "saida_converte()"
   ]
  },
  {
   "cell_type": "markdown",
   "metadata": {},
   "source": [
    "### Questão 7) Resolução"
   ]
  },
  {
   "cell_type": "code",
   "execution_count": 26,
   "metadata": {},
   "outputs": [],
   "source": [
    "# Função para entrada de dados\n",
    "def dados():\n",
    "    print('SIPEG - Sistema Integrado de Pagamentos-PE\\n')\n",
    "    print('Unidade: Fuctura-Recife')\n",
    "    prestacao = float(input('Digite o valor da Prestação: '))\n",
    "    if prestacao == 0:\n",
    "        dias = 0\n",
    "    else:\n",
    "        dias = int(input('Informe os dias de atraso: '))\n",
    "    return [prestacao, dias]\n",
    "\n",
    "# Função valorPagamento\n",
    "def valorPagamento():\n",
    "    informe = dados()\n",
    "    if informe[1] == 0:\n",
    "        prestacao = informe[0]\n",
    "    else:\n",
    "        prestacao = informe[0] + (informe[0]*0.03) + (informe[0]*informe[1]*0.001)\n",
    "    return prestacao\n",
    "    "
   ]
  },
  {
   "cell_type": "code",
   "execution_count": 40,
   "metadata": {},
   "outputs": [],
   "source": [
    "# Impotando o módulo DATETIME\n",
    "from datetime import date\n",
    "    \n",
    "# Função para imprimir na tela e gerar o relatório do dia\n",
    "def outPut():\n",
    "    relatorio = []\n",
    "    pagamento = valorPagamento()\n",
    "    data = date.today() #Chamando o módulo datetime\n",
    "    while pagamento != 0:\n",
    "        print('*'*60)\n",
    "        print('--------------------Prestação a Pagar--------------------\\n')\n",
    "        print(f'Valor da prestação a ser paga: R$ {pagamento:.2f}\\n')\n",
    "        print('*'*60)\n",
    "        relatorio.append(pagamento)\n",
    "        pagamento = valorPagamento()\n",
    "    total = sum(relatorio)\n",
    "    print('*'*60)\n",
    "    print('SIPEG - Sistema Integrado de Pagamentos-PE\\n')\n",
    "    print('--------------------Relatório do dia--------------------\\n')\n",
    "    print('Unidade: Fuctura-Recife')\n",
    "    print(f'Data: {data}\\n')\n",
    "    print(f'Prestações pagas no dia: {len(relatorio)} prestações.')\n",
    "    print(f'Valor total em prestações pagas: R$ {total:.2f}\\n')\n",
    "    print('*'*60)\n",
    "    "
   ]
  },
  {
   "cell_type": "code",
   "execution_count": 41,
   "metadata": {},
   "outputs": [
    {
     "name": "stdout",
     "output_type": "stream",
     "text": [
      "SIPEG - Sistema Integrado de Pagamentos-PE\n",
      "\n",
      "Unidade: Fuctura-Recife\n",
      "Digite o valor da Prestação: 0\n",
      "************************************************************\n",
      "SIPEG - Sistema Integrado de Pagamentos-PE\n",
      "\n",
      "--------------------Relatório do dia--------------------\n",
      "\n",
      "Unidade: Fuctura-Recife\n",
      "Data: 2023-01-18\n",
      "\n",
      "Prestações pagas no dia: 0 prestações.\n",
      "Valor total em prestações pagas: R$ 0.00\n",
      "\n",
      "************************************************************\n"
     ]
    }
   ],
   "source": [
    "outPut()"
   ]
  },
  {
   "cell_type": "code",
   "execution_count": null,
   "metadata": {},
   "outputs": [],
   "source": []
  },
  {
   "cell_type": "markdown",
   "metadata": {},
   "source": [
    "### Questão 8) Faça uma função que informe a quantidade de dígitos de um determinado número inteiro informado."
   ]
  },
  {
   "cell_type": "code",
   "execution_count": 54,
   "metadata": {},
   "outputs": [],
   "source": [
    "def contarNumeros():\n",
    "    numero = input('Digite um número inteiro ou tecle x para encerrar: ')\n",
    "    while numero != 'x':\n",
    "        lista = list(numero)\n",
    "        digitos = len(numero)\n",
    "        if digitos == 1:\n",
    "            print(f'O número informado tem {digitos} digito.\\n')\n",
    "        else:\n",
    "            print(f'O número informado tem {digitos} digitos.\\n')\n",
    "        numero = input('Digite um número inteiro ou tecle x para encerrar: ')\n",
    "    print('Fim do programa!')"
   ]
  },
  {
   "cell_type": "code",
   "execution_count": 55,
   "metadata": {},
   "outputs": [
    {
     "name": "stdout",
     "output_type": "stream",
     "text": [
      "Digite um número inteiro ou tecle x para encerrar: 1\n",
      "O número informado tem 1 digito.\n",
      "\n",
      "Digite um número inteiro ou tecle x para encerrar: 0\n",
      "O número informado tem 1 digito.\n",
      "\n",
      "Digite um número inteiro ou tecle x para encerrar: 5\n",
      "O número informado tem 1 digito.\n",
      "\n",
      "Digite um número inteiro ou tecle x para encerrar: 25\n",
      "O número informado tem 2 digitos.\n",
      "\n",
      "Digite um número inteiro ou tecle x para encerrar: 2365897418643383686433684\n",
      "O número informado tem 25 digitos.\n",
      "\n",
      "Digite um número inteiro ou tecle x para encerrar: x\n",
      "Fim do programa!\n"
     ]
    }
   ],
   "source": [
    "contarNumeros()"
   ]
  },
  {
   "cell_type": "markdown",
   "metadata": {},
   "source": [
    "### Questão 9) Reverso do número. Faça uma função que retorne o reverso de um número inteiro informado. Por exemplo: 127 -> 721."
   ]
  },
  {
   "cell_type": "code",
   "execution_count": 74,
   "metadata": {},
   "outputs": [],
   "source": [
    "def reverso():\n",
    "    numero = input('Digite um número inteiro ou tecle x para encerrar: ')\n",
    "    while numero != 'x':\n",
    "        # Usando slicing\n",
    "        numReverse = numero[::-1]\n",
    "        print(f'O reverso do número informado é: {numReverse}')\n",
    "        numero = input('Digite um número inteiro ou tecle x para encerrar: ')\n",
    "    print('Fim do programa!')"
   ]
  },
  {
   "cell_type": "code",
   "execution_count": 75,
   "metadata": {},
   "outputs": [
    {
     "name": "stdout",
     "output_type": "stream",
     "text": [
      "Digite um número inteiro ou tecle x para encerrar: 123\n",
      "O reverso do número informado é: 321\n",
      "Digite um número inteiro ou tecle x para encerrar: 127\n",
      "O reverso do número informado é: 721\n",
      "Digite um número inteiro ou tecle x para encerrar: x\n",
      "Fim do programa!\n"
     ]
    }
   ],
   "source": [
    "reverso()"
   ]
  },
  {
   "cell_type": "code",
   "execution_count": null,
   "metadata": {},
   "outputs": [],
   "source": []
  },
  {
   "cell_type": "markdown",
   "metadata": {},
   "source": [
    "### Questão 10)"
   ]
  },
  {
   "cell_type": "code",
   "execution_count": 121,
   "metadata": {},
   "outputs": [],
   "source": [
    "import random"
   ]
  },
  {
   "cell_type": "code",
   "execution_count": 145,
   "metadata": {},
   "outputs": [],
   "source": [
    "# Função para jogar e somar os dados\n",
    "def dados():\n",
    "    valores = [1, 2, 3, 4, 5, 6]\n",
    "    #jogando os dados\n",
    "    dado_1 = random.choice(valores)\n",
    "    dado_2 = random.choice(valores)\n",
    "    #Somando os dados\n",
    "    soma = sum([dado_1, dado_2])\n",
    "    return [dado_1, dado_2, soma]"
   ]
  },
  {
   "cell_type": "code",
   "execution_count": 146,
   "metadata": {},
   "outputs": [],
   "source": [
    "# Ação do jogo\n",
    "def acao():\n",
    "    inicio = int(input(\"\"\"\n",
    "    [1] Lançar dados\n",
    "    [2] Desistir\n",
    "    \"\"\"))\n",
    "    if inicio == 1:\n",
    "        soma = dados()\n",
    "        ponto = []\n",
    "        # Vence\n",
    "        if soma[2] == 7 or soma[2] == 11:\n",
    "            print(f'Dados: {soma[0]} e {soma[1]}, soma dos dados foi: {soma[2]}')\n",
    "            print('PARABÉNS VOCÊ VENCEU!')\n",
    "        # Perde\n",
    "        if soma[2] == 2 or soma[2] == 3 or soma[2] == 12:\n",
    "            print(f'Dados: {soma[0]} e {soma[1]}, soma dos dados foi: {soma[2]}')\n",
    "            print('VOCÊ É O CRAPS')\n",
    "        # Joga até sair o mesmo ponto ou perde se sair o 7\n",
    "        if 3 < soma[2] < 7 or 7 < soma[2] < 11:\n",
    "            print(f'Dados: {soma[0]} e {soma[1]}, soma dos dados foi: {soma[2]}')\n",
    "            ponto.append(soma[2])\n",
    "            inicio = int(input(\"\"\"\n",
    "            [1] Lançar dados\n",
    "            [2] Desistir\n",
    "            \"\"\"))\n",
    "            if inicio == 1:\n",
    "                soma = dados()\n",
    "                stop = 0\n",
    "                while stop != 1 :\n",
    "                    if soma[2] == 7:\n",
    "                        print(f'Dados: {soma[0]} e {soma[1]}, soma dos dados foi: {soma[2]}')\n",
    "                        print('VOCÊ PERDEU!')\n",
    "                        stop = 1\n",
    "                    else:\n",
    "                        for item in ponto:\n",
    "                            if item != soma[2]:\n",
    "                                print(f'Dados: {soma[0]} e {soma[1]}, soma dos dados foi: {soma[2]}')\n",
    "                                print(f'Você tem que acertar o {ponto} para vencer!')\n",
    "                                inicio = int(input(\"\"\"\n",
    "                                [1] Lançar dados\n",
    "                                [2] Desistir\n",
    "                                \"\"\"))\n",
    "                                if inicio == 1:\n",
    "                                    soma = dados()\n",
    "                                else:\n",
    "                                    print('Você desistiu do jogo!')\n",
    "                            else:\n",
    "                                print(f'Dados: {soma[0]} e {soma[1]}, soma dos dados foi: {soma[2]}')\n",
    "                                print(f'Seu ponto era {ponto} e você consegui o {soma[2]}!')\n",
    "                                print('PARABÉNS VOCÊ VENCEU!')\n",
    "                                stop = 1\n",
    "            else:\n",
    "                print('Você desistiu do jogo!')\n",
    "    else:\n",
    "        print('Você desistiu do jogo!')\n",
    "                        \n",
    "                    \n",
    "        "
   ]
  },
  {
   "cell_type": "code",
   "execution_count": 147,
   "metadata": {},
   "outputs": [],
   "source": [
    "# Looping do jogo\n",
    "def jogar():\n",
    "    menu = int(input(\"\"\"Escolha uma ação!\n",
    "    [1] Jogar\n",
    "    [2] Sair\n",
    "    \"\"\"))\n",
    "    while menu == 1:\n",
    "        jogo = acao()\n",
    "        menu = int(input(\"\"\"Escolha uma ação!\n",
    "    [1] Jogar\n",
    "    [2] Sair\n",
    "    \"\"\"))\n",
    "    print('Você saiu do jogo!')"
   ]
  },
  {
   "cell_type": "code",
   "execution_count": 148,
   "metadata": {},
   "outputs": [
    {
     "name": "stdout",
     "output_type": "stream",
     "text": [
      "Escolha uma ação!\n",
      "    [1] Jogar\n",
      "    [2] Sair\n",
      "    1\n",
      "\n",
      "    [1] Lançar dados\n",
      "    [2] Desistir\n",
      "    1\n",
      "Dados: 3 e 6, soma dos dados foi: 9\n",
      "\n",
      "            [1] Lançar dados\n",
      "            [2] Desistir\n",
      "            1\n",
      "Dados: 5 e 6, soma dos dados foi: 11\n",
      "Você tem que acertar o [9] para vencer!\n",
      "\n",
      "                                [1] Lançar dados\n",
      "                                [2] Desistir\n",
      "                                1\n",
      "Dados: 6 e 6, soma dos dados foi: 12\n",
      "Você tem que acertar o [9] para vencer!\n",
      "\n",
      "                                [1] Lançar dados\n",
      "                                [2] Desistir\n",
      "                                1\n",
      "Dados: 3 e 2, soma dos dados foi: 5\n",
      "Você tem que acertar o [9] para vencer!\n",
      "\n",
      "                                [1] Lançar dados\n",
      "                                [2] Desistir\n",
      "                                1\n",
      "Dados: 1 e 5, soma dos dados foi: 6\n",
      "Você tem que acertar o [9] para vencer!\n",
      "\n",
      "                                [1] Lançar dados\n",
      "                                [2] Desistir\n",
      "                                1\n",
      "Dados: 6 e 2, soma dos dados foi: 8\n",
      "Você tem que acertar o [9] para vencer!\n",
      "\n",
      "                                [1] Lançar dados\n",
      "                                [2] Desistir\n",
      "                                1\n",
      "Dados: 1 e 6, soma dos dados foi: 7\n",
      "VOCÊ PERDEU!\n",
      "Escolha uma ação!\n",
      "    [1] Jogar\n",
      "    [2] Sair\n",
      "    2\n",
      "Você saiu do jogo!\n"
     ]
    }
   ],
   "source": [
    "# Chamando o jogo\n",
    "jogar()"
   ]
  },
  {
   "cell_type": "code",
   "execution_count": null,
   "metadata": {},
   "outputs": [],
   "source": []
  },
  {
   "cell_type": "markdown",
   "metadata": {},
   "source": [
    "### Questão 11) Data com mês por extenso. Construa uma função que receba uma data no formato DD/MM/AAAA e devolva uma string no formato D de mesPorExtenso de AAAA. Opcionalmente, valide a data e retorne NULL caso a data seja inválida."
   ]
  },
  {
   "cell_type": "code",
   "execution_count": 150,
   "metadata": {},
   "outputs": [],
   "source": [
    "def mesExtenso():\n",
    "    data = input('informe uma data: ')\n",
    "    mes_extenso = {1: 'Janeiro', 2: 'Fevereiro', 3: 'Março', 4: 'Abril', 5: 'Maio', 6: 'Junho', \n",
    "                  7: 'Julho', 8: 'Agosto', 9: 'Stembro', 10: 'Outubro', 11: 'Novembro', 12: 'Dezembro'}\n",
    "    dia, mes, ano = data.split('/')\n",
    "    print(f'{dia} de {mes_extenso[int(mes)]} de {ano}.')"
   ]
  },
  {
   "cell_type": "code",
   "execution_count": 152,
   "metadata": {},
   "outputs": [
    {
     "name": "stdout",
     "output_type": "stream",
     "text": [
      "informe uma data: 25/06/1987\n",
      "25 de Junho de 1987.\n"
     ]
    }
   ],
   "source": [
    "mesExtenso()"
   ]
  },
  {
   "cell_type": "code",
   "execution_count": null,
   "metadata": {},
   "outputs": [],
   "source": []
  },
  {
   "cell_type": "markdown",
   "metadata": {},
   "source": [
    "### Questão 12) Embaralha palavra.  Construa uma função que receba uma string como parâmetro e devolva outra string com os carateres embaralhados. Por exemplo: se função receber a palavra python, pode retornar npthyo, ophtyn ou qualquer outra combinação possível, de forma aleatória. Padronize em sua função que todos os caracteres serão devolvidos em caixa alta ou caixa baixa, independentemente de como foram digitados."
   ]
  },
  {
   "cell_type": "code",
   "execution_count": 91,
   "metadata": {},
   "outputs": [],
   "source": [
    "# Função par receber as palavras\n",
    "def caracteres():\n",
    "    palavra = input('Digite uma palavra: ').upper()\n",
    "    letras = []\n",
    "    for caracter in palavra[::]:\n",
    "        letras.append(caracter)\n",
    "    return [letras, palavra]\n",
    "    "
   ]
  },
  {
   "cell_type": "code",
   "execution_count": 93,
   "metadata": {},
   "outputs": [],
   "source": [
    "# Função para embaralhar\n",
    "def embaralhar():\n",
    "    letras = caracteres()\n",
    "    menu = int(input(\"\"\"Escolha uma opção:\n",
    "    [1] Ordem alfabética\n",
    "    [2] Embaralhar\n",
    "    \"\"\"))\n",
    "    if menu == 1:\n",
    "        # Colocando a lista em ordem\n",
    "        ordem = sorted(letras[0])\n",
    "        # Aplicando o join() na lista de strings para transfrmar em uma única str\n",
    "        embaralhou = ''.join(ordem)\n",
    "    if menu == 2:\n",
    "        # Fazendo o slicing da palavra e concatenando\n",
    "        juntar = letras[0][1::2] + letras[0][::2]\n",
    "        embaralhou = ''.join(juntar)\n",
    "    print(f'A palavra digitada foi: {letras[1]}')\n",
    "    print(f'A palavra ficou: {embaralhou}')\n",
    "    "
   ]
  },
  {
   "cell_type": "code",
   "execution_count": 94,
   "metadata": {},
   "outputs": [],
   "source": [
    "# Função par fazer o looping\n",
    "def repetirAcao():\n",
    "    menu = int(input(\"\"\"Menu\n",
    "    [1] Emabaralhar\n",
    "    [2] Sair\n",
    "    \"\"\"))\n",
    "    while menu == 1:\n",
    "        acao = embaralhar()\n",
    "        menu = int(input(\"\"\"Menu\n",
    "        [1] Emabaralhar\n",
    "        [2] Sair\n",
    "        \"\"\"))\n",
    "    print('Progama encerrado!')\n",
    "    "
   ]
  },
  {
   "cell_type": "code",
   "execution_count": 95,
   "metadata": {},
   "outputs": [
    {
     "name": "stdout",
     "output_type": "stream",
     "text": [
      "Menu\n",
      "    [1] Emabaralhar\n",
      "    [2] Sair\n",
      "    1\n",
      "Digite uma palavra: flavio\n",
      "Escolha uma opção:\n",
      "    [1] Ordem alfabética\n",
      "    [2] Embaralhar\n",
      "    1\n",
      "A palavra digitada foi: FLAVIO\n",
      "A palavra ficou: AFILOV\n",
      "Menu\n",
      "        [1] Emabaralhar\n",
      "        [2] Sair\n",
      "        1\n",
      "Digite uma palavra: lucio\n",
      "Escolha uma opção:\n",
      "    [1] Ordem alfabética\n",
      "    [2] Embaralhar\n",
      "    2\n",
      "A palavra digitada foi: LUCIO\n",
      "A palavra ficou: UILCO\n",
      "Menu\n",
      "        [1] Emabaralhar\n",
      "        [2] Sair\n",
      "        1\n",
      "Digite uma palavra: python\n",
      "Escolha uma opção:\n",
      "    [1] Ordem alfabética\n",
      "    [2] Embaralhar\n",
      "    2\n",
      "A palavra digitada foi: PYTHON\n",
      "A palavra ficou: YHNPTO\n",
      "Menu\n",
      "        [1] Emabaralhar\n",
      "        [2] Sair\n",
      "        2\n",
      "Progama encerrado!\n"
     ]
    }
   ],
   "source": [
    "repetirAcao()"
   ]
  },
  {
   "cell_type": "markdown",
   "metadata": {},
   "source": [
    "### Questão 13) Desenha moldura. Construa uma função que desenhe um retângulo usando os caracteres ‘+’ , ‘−’ e ‘| ‘. Esta função deve receber dois parâmetros, linhas e colunas, sendo que o valor por omissão é o valor mínimo igual a 1 e o valor máximo é 20. Se valores fora da faixa forem informados, eles devem ser modificados para valores dentro da faixa de forma elegante."
   ]
  },
  {
   "cell_type": "code",
   "execution_count": 37,
   "metadata": {},
   "outputs": [],
   "source": [
    "def linCol():\n",
    "    linhas = int(input('Informe a quantidade de linhas: '))\n",
    "    colunas = int(input('Informe a quantidade de colunas: '))\n",
    "    return [linhas, colunas]\n",
    "\n",
    "# Pedaços da Moldura\n",
    "base = '+-+'\n",
    "lado_e = '|  '\n",
    "lado_d = '  |'\n",
    "meio = '   '\n",
    "\n",
    "# Listas vazias\n",
    "n_colunas = []\n",
    "matriz = []\n",
    "\n",
    "# Criando o miolo\n",
    "def criarMiolo(colunas):\n",
    "    col_vazio = []\n",
    "    m = 0\n",
    "    parametro = colunas - 2\n",
    "    if colunas == 2:\n",
    "        col_vazio.append(lado_e)\n",
    "        col_vazio.append(lado_d)\n",
    "    if colunas > 2:\n",
    "        col_vazio.append(lado_e)\n",
    "        while m < parametro:\n",
    "            col_vazio.append(meio)\n",
    "            m +=1\n",
    "        col_vazio.append(lado_d)\n",
    "    return col_vazio\n",
    "\n",
    "def cria_matriz():\n",
    "    app = linCol()\n",
    "    # contador para linhas\n",
    "    n = 0\n",
    "\n",
    "    # contador para colunas\n",
    "    m = 0\n",
    "    if app[0] == 1 and app[1] == 1:\n",
    "        matriz.append(base)\n",
    "        np.array(matriz)\n",
    "\n",
    "    if app[0] == 1 and app[1] > 1:\n",
    "        while m < app[1]:\n",
    "            n_colunas.append(base)\n",
    "            m += 1\n",
    "        matriz.append(n_colunas)\n",
    "        np.array(matriz)\n",
    "\n",
    "    if (app[0] > 1) and (app[1] == 1):\n",
    "        matriz.append(base)\n",
    "        while n < parametro:\n",
    "            matriz.append(lateral_e)\n",
    "            n += 1\n",
    "        matriz.append(n_colunas)\n",
    "        np.array(matriz)\n",
    "\n",
    "    if app[0] == 2 and app[1] > 1:\n",
    "        while m < app[1]:\n",
    "            n_colunas.append(base)\n",
    "            m += 1\n",
    "        matriz.append(n_colunas)\n",
    "        matriz.append(n_colunas)\n",
    "        np.array(matriz)\n",
    "\n",
    "    if app[0] > 2 and app[1] > 1:\n",
    "        vazio = criarMiolo(app[1])\n",
    "        while m < app[1]:\n",
    "            n_colunas.append(base)\n",
    "            m += 1\n",
    "        matriz.append(n_colunas)\n",
    "\n",
    "        while n < parametro:\n",
    "            matriz.append(vazio)\n",
    "            n += 1\n",
    "\n",
    "        matriz.append(n_colunas)\n",
    "    return matriz"
   ]
  },
  {
   "cell_type": "code",
   "execution_count": 38,
   "metadata": {},
   "outputs": [
    {
     "name": "stdout",
     "output_type": "stream",
     "text": [
      "Informe a quantidade de linhas: 10\n",
      "Informe a quantidade de colunas: 5\n"
     ]
    },
    {
     "data": {
      "text/plain": [
       "[['+-+', '+-+', '+-+', '+-+', '+-+'],\n",
       " ['|  ', '   ', '   ', '   ', '  |'],\n",
       " ['|  ', '   ', '   ', '   ', '  |'],\n",
       " ['|  ', '   ', '   ', '   ', '  |'],\n",
       " ['+-+', '+-+', '+-+', '+-+', '+-+']]"
      ]
     },
     "execution_count": 38,
     "metadata": {},
     "output_type": "execute_result"
    }
   ],
   "source": [
    "cria_matriz()"
   ]
  },
  {
   "cell_type": "code",
   "execution_count": null,
   "metadata": {},
   "outputs": [],
   "source": []
  }
 ],
 "metadata": {
  "kernelspec": {
   "display_name": "Python 3 (ipykernel)",
   "language": "python",
   "name": "python3"
  },
  "language_info": {
   "codemirror_mode": {
    "name": "ipython",
    "version": 3
   },
   "file_extension": ".py",
   "mimetype": "text/x-python",
   "name": "python",
   "nbconvert_exporter": "python",
   "pygments_lexer": "ipython3",
   "version": "3.10.2"
  }
 },
 "nbformat": 4,
 "nbformat_minor": 4
}
